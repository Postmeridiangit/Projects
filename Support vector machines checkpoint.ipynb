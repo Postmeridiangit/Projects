{
 "cells": [
  {
   "cell_type": "code",
   "execution_count": 1,
   "id": "2b6308cf-66bb-4f0a-afbf-4b8bd1f0fb73",
   "metadata": {},
   "outputs": [
    {
     "ename": "ModuleNotFoundError",
     "evalue": "No module named 'pandas_profiling'",
     "output_type": "error",
     "traceback": [
      "\u001b[1;31m---------------------------------------------------------------------------\u001b[0m",
      "\u001b[1;31mModuleNotFoundError\u001b[0m                       Traceback (most recent call last)",
      "Cell \u001b[1;32mIn[1], line 8\u001b[0m\n\u001b[0;32m      6\u001b[0m \u001b[38;5;28;01mfrom\u001b[39;00m \u001b[38;5;21;01msklearn\u001b[39;00m\u001b[38;5;21;01m.\u001b[39;00m\u001b[38;5;21;01mmetrics\u001b[39;00m \u001b[38;5;28;01mimport\u001b[39;00m classification_report, accuracy_score\n\u001b[0;32m      7\u001b[0m \u001b[38;5;28;01mfrom\u001b[39;00m \u001b[38;5;21;01msklearn\u001b[39;00m\u001b[38;5;21;01m.\u001b[39;00m\u001b[38;5;21;01mpreprocessing\u001b[39;00m \u001b[38;5;28;01mimport\u001b[39;00m LabelEncoder, StandardScaler\n\u001b[1;32m----> 8\u001b[0m \u001b[38;5;28;01mfrom\u001b[39;00m \u001b[38;5;21;01mpandas_profiling\u001b[39;00m \u001b[38;5;28;01mimport\u001b[39;00m ProfileReport\n",
      "\u001b[1;31mModuleNotFoundError\u001b[0m: No module named 'pandas_profiling'"
     ]
    }
   ],
   "source": [
    "##Import Necessary Libraries\n",
    "\n",
    "import pandas as pd\n",
    "from sklearn.model_selection import train_test_split\n",
    "from sklearn.svm import SVC\n",
    "from sklearn.metrics import classification_report, accuracy_score\n",
    "from sklearn.preprocessing import LabelEncoder, StandardScaler\n",
    "from pandas_profiling import ProfileReport"
   ]
  },
  {
   "cell_type": "code",
   "execution_count": null,
   "id": "7a6792d9-34e9-48f8-87ae-43e64198d605",
   "metadata": {},
   "outputs": [],
   "source": [
    "# Load the Dataset\n",
    "\n",
    "# Load the dataset\n",
    "df = pd.read_csv('Electric_cars_dataset.csv')"
   ]
  },
  {
   "cell_type": "code",
   "execution_count": null,
   "id": "55e73175-746e-4fc1-a775-a5061ea6497f",
   "metadata": {},
   "outputs": [],
   "source": [
    "# Display the first few rows of the dataset\n",
    "print(df.head())\n",
    "\n",
    "# Display basic information about the dataset\n",
    "print(df.info())\n",
    "\n",
    "# Display summary statistics\n",
    "print(df.describe())"
   ]
  },
  {
   "cell_type": "code",
   "execution_count": null,
   "id": "797b30df-fbed-47d2-9e32-ea08617b5ab2",
   "metadata": {},
   "outputs": [],
   "source": [
    "# Generate a profiling report\n",
    "profile = ProfileReport(df, title=\"Pandas Profiling Report\")\n",
    "profile.to_file(\"electric_cars_report.html\")"
   ]
  },
  {
   "cell_type": "code",
   "execution_count": null,
   "id": "2575f0ba-b43e-4f33-b4f8-c29aa18204d4",
   "metadata": {},
   "outputs": [],
   "source": [
    "# Check for missing values\n",
    "print(df.isnull().sum())\n",
    "\n",
    "# Handle missing values (e.g., fill with mean, median, or mode)\n",
    "df.fillna(df.mean(), inplace=True)\n",
    "\n",
    "# Check for corrupted values (e.g., negative values where not expected)\n",
    "# Example: Check for negative values in 'Electric Range'\n",
    "print(df[df['Electric Range'] < 0])"
   ]
  },
  {
   "cell_type": "code",
   "execution_count": null,
   "id": "a56ac37c-8657-483e-aeef-3248cb5c4594",
   "metadata": {},
   "outputs": [],
   "source": [
    "# Check for duplicates\n",
    "print(df.duplicated().sum())\n",
    "\n",
    "# Remove duplicates\n",
    "df.drop_duplicates(inplace=True)"
   ]
  },
  {
   "cell_type": "code",
   "execution_count": null,
   "id": "663de8ce-fce1-4ef7-8551-638f285aa2f1",
   "metadata": {},
   "outputs": [],
   "source": [
    "# Example: Handle outliers in 'Electric Range' using IQR\n",
    "Q1 = df['Electric Range'].quantile(0.25)\n",
    "Q3 = df['Electric Range'].quantile(0.75)\n",
    "IQR = Q3 - Q1\n",
    "\n",
    "# Define outliers\n",
    "lower_bound = Q1 - 1.5 * IQR\n",
    "upper_bound = Q3 + 1.5 * IQR\n",
    "\n",
    "# Filter out outliers\n",
    "df = df[(df['Electric Range'] >= lower_bound) & (df['Electric Range'] <= upper_bound)]"
   ]
  },
  {
   "cell_type": "code",
   "execution_count": null,
   "id": "c3b9ddbf-0a75-47a8-940a-9485687a015a",
   "metadata": {},
   "outputs": [],
   "source": [
    "# Encode categorical variables using LabelEncoder\n",
    "label_encoder = LabelEncoder()\n",
    "categorical_columns = ['Make', 'Model', 'Electric Vehicle Type', 'Clean Alternative Fuel Vehicle (CAFV) Eligibility']\n",
    "\n",
    "for col in categorical_columns:\n",
    "    df[col] = label_encoder.fit_transform(df[col])"
   ]
  },
  {
   "cell_type": "code",
   "execution_count": null,
   "id": "09519baf-86e9-4865-85fd-a80cce706982",
   "metadata": {},
   "outputs": [],
   "source": [
    "# Select features and target variable\n",
    "X = df.drop(columns=['Expected Price ($1k)'])\n",
    "y = df['Expected Price ($1k)']\n",
    "\n",
    "# If 'Expected Price ($1k)' is not the target, replace it with the correct target variable"
   ]
  },
  {
   "cell_type": "code",
   "execution_count": null,
   "id": "4f3b7798-b680-4081-907c-d9ffd9479454",
   "metadata": {},
   "outputs": [],
   "source": [
    "# Split the dataset\n",
    "X_train, X_test, y_train, y_test = train_test_split(X, y, test_size=0.2, random_state=42)"
   ]
  },
  {
   "cell_type": "code",
   "execution_count": null,
   "id": "41146bcd-c7c7-4dc9-9621-f99b4814ead1",
   "metadata": {},
   "outputs": [],
   "source": [
    "# Standardize the features\n",
    "scaler = StandardScaler()\n",
    "X_train = scaler.fit_transform(X_train)\n",
    "X_test = scaler.transform(X_test)\n",
    "\n",
    "# Initialize and train the SVM model\n",
    "svm_model = SVC(kernel='linear')\n",
    "svm_model.fit(X_train, y_train)"
   ]
  },
  {
   "cell_type": "markdown",
   "id": "7812bd97-33a7-4096-a8e0-42ae7679abbe",
   "metadata": {},
   "source": [
    "Conclusion\n",
    "By following these steps, you can effectively explore, preprocess, and model your dataset using an SVM. The evaluation metrics will give you insights into the model's performance, and the discussed alternatives provide pathways for further improvement."
   ]
  },
  {
   "cell_type": "code",
   "execution_count": null,
   "id": "23a6d8dc-26af-4fdc-8156-fd2bd8c18dc6",
   "metadata": {},
   "outputs": [],
   "source": []
  }
 ],
 "metadata": {
  "kernelspec": {
   "display_name": "Python 3 (ipykernel)",
   "language": "python",
   "name": "python3"
  },
  "language_info": {
   "codemirror_mode": {
    "name": "ipython",
    "version": 3
   },
   "file_extension": ".py",
   "mimetype": "text/x-python",
   "name": "python",
   "nbconvert_exporter": "python",
   "pygments_lexer": "ipython3",
   "version": "3.12.7"
  }
 },
 "nbformat": 4,
 "nbformat_minor": 5
}
