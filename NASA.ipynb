{
 "cells": [
  {
   "cell_type": "code",
   "execution_count": 1,
   "id": "86f9489a-f2fe-401b-9ef8-f111c7cdbb1b",
   "metadata": {},
   "outputs": [],
   "source": [
    "import requests\n",
    "import pandas as pd"
   ]
  },
  {
   "cell_type": "code",
   "execution_count": 3,
   "id": "6c730b2e-39df-474f-ae6f-39d930339187",
   "metadata": {},
   "outputs": [],
   "source": [
    "api_key = 'KTF4irxJTUasGoDMwuM2QUrOytIbxkTBzjvZ9B5J'"
   ]
  },
  {
   "cell_type": "code",
   "execution_count": 4,
   "id": "a7aaff33-9882-4200-82f8-6a32388c2d2a",
   "metadata": {},
   "outputs": [],
   "source": [
    "apod_url = f\"https://api.nasa.gov/planetary/apod?api_key={'KTF4irxJTUasGoDMwuM2QUrOytIbxkTBzjvZ9B5J'}\""
   ]
  },
  {
   "cell_type": "code",
   "execution_count": 6,
   "id": "c5c23e9c-d882-43dd-875a-b578ee8ba9ff",
   "metadata": {},
   "outputs": [
    {
     "data": {
      "text/plain": [
       "<Response [200]>"
      ]
     },
     "execution_count": 6,
     "metadata": {},
     "output_type": "execute_result"
    }
   ],
   "source": [
    "# response is [200], stating that we have access to re requested resource\n",
    "\n",
    "response = requests.get(apod_url)\n",
    "response"
   ]
  },
  {
   "cell_type": "code",
   "execution_count": 18,
   "id": "59a93017-d758-4e7f-b392-9b03aaaa15fb",
   "metadata": {},
   "outputs": [
    {
     "name": "stdout",
     "output_type": "stream",
     "text": [
      "Image URL: https://apod.nasa.gov/apod/image/2503/BlueGhostShadow_Firefly_960.jpg\n"
     ]
    }
   ],
   "source": [
    "if response.status_code == 200:\n",
    "    data = response.json()\n",
    "    # Extract the image URL\n",
    "    image_url = data['url']\n",
    "    print(f\"Image URL: {image_url}\")\n",
    "else:\n",
    "    print(f\"Failed to retrieve data: {response.status_code}\")"
   ]
  },
  {
   "cell_type": "code",
   "execution_count": 19,
   "id": "313d9c96-2613-4109-8245-3ca3cc1c51d5",
   "metadata": {},
   "outputs": [
    {
     "data": {
      "text/html": [
       "<img src=\"https://apod.nasa.gov/apod/image/2503/BlueGhostShadow_Firefly_960.jpg\"/>"
      ],
      "text/plain": [
       "<IPython.core.display.Image object>"
      ]
     },
     "metadata": {},
     "output_type": "display_data"
    }
   ],
   "source": [
    "from IPython.display import Image, display\n",
    "\n",
    "# Display the image\n",
    "display(Image(url=image_url))\n"
   ]
  },
  {
   "cell_type": "code",
   "execution_count": 21,
   "id": "9fa79ccc-a900-427e-abd5-9c2ab0a7d728",
   "metadata": {},
   "outputs": [],
   "source": [
    "# URL for NeoWs (Asteroids data)\n",
    "neo_url = f\"https://api.nasa.gov/neo/rest/v1/neo/browse?api_key={api_key}\""
   ]
  },
  {
   "cell_type": "code",
   "execution_count": 23,
   "id": "85258edb-e273-4033-a466-c9d32b9f9ee9",
   "metadata": {},
   "outputs": [
    {
     "data": {
      "text/plain": [
       "<Response [200]>"
      ]
     },
     "execution_count": 23,
     "metadata": {},
     "output_type": "execute_result"
    }
   ],
   "source": [
    "response = requests.get(neo_url)\n",
    "response"
   ]
  },
  {
   "cell_type": "code",
   "execution_count": 24,
   "id": "c77f8481-4255-46d9-9ce7-cda6162fd4f5",
   "metadata": {},
   "outputs": [],
   "source": [
    "\n",
    "if response.status_code == 200:\n",
    "    neo_data = response.json()\n",
    "    # Extract the relevant data (Asteroid details)\n",
    "    asteroids = neo_data['near_earth_objects']\n",
    "else:\n",
    "    print(f\"Failed to retrieve asteroid data: {response.status_code}\")\n"
   ]
  },
  {
   "cell_type": "code",
   "execution_count": null,
   "id": "3fc65a73-4551-49d4-8687-19835780c126",
   "metadata": {},
   "outputs": [],
   "source": [
    "# Convert the asteroid data into a pandas DataFrame\n",
    "asteroids_df = pd.json_normalize(asteroids)\n",
    "\n",
    "# Filter relevant columns: Asteroid ID, Name, Diameter, Magnitude, Velocity\n",
    "cleaned_df = asteroids_df[[\n",
    "    'id', \n",
    "    'name', \n",
    "    'estimated_diameter.kilometers.estimated_diameter_min',\n",
    "    'absolute_magnitude_h',\n",
    "    'close_approach_data[0].relative_velocity.kilometers_per_second'\n",
    "]]\n",
    "\n",
    "# Rename the columns for clarity\n",
    "cleaned_df.columns = [\n",
    "    'Asteroid ID', \n",
    "    'Asteroid Name', \n",
    "    'Minimal Estimated Diameter (km)', \n",
    "    'Absolute Magnitude', \n",
    "    'Relative Velocity (km/s)'\n",
    "]\n",
    "\n",
    "# Display the cleaned DataFrame\n",
    "print(cleaned_df.head())\n"
   ]
  }
 ],
 "metadata": {
  "kernelspec": {
   "display_name": "Python 3 (ipykernel)",
   "language": "python",
   "name": "python3"
  },
  "language_info": {
   "codemirror_mode": {
    "name": "ipython",
    "version": 3
   },
   "file_extension": ".py",
   "mimetype": "text/x-python",
   "name": "python",
   "nbconvert_exporter": "python",
   "pygments_lexer": "ipython3",
   "version": "3.12.7"
  }
 },
 "nbformat": 4,
 "nbformat_minor": 5
}
